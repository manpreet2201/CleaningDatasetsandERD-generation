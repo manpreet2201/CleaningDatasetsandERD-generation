{
 "cells": [
  {
   "cell_type": "code",
   "execution_count": 77,
   "metadata": {},
   "outputs": [
    {
     "data": {
      "text/plain": [
       "animal_project_reference       1\n",
       "datacenter_reference           1\n",
       "animal_reference_id            1\n",
       "animal_guid                    1\n",
       "vernacularname                 1\n",
       "scientificname                 1\n",
       "taxonrank                   3810\n",
       "aphiaid                        1\n",
       "tsn                            1\n",
       "animal_origin                 13\n",
       "stock                        164\n",
       "length                       119\n",
       "length_type                  117\n",
       "weight                       738\n",
       "life_stage                  3299\n",
       "age                         3660\n",
       "sex                         3324\n",
       "dtype: int64"
      ]
     },
     "execution_count": 77,
     "metadata": {},
     "output_type": "execute_result"
    }
   ],
   "source": [
    "import numpy as np\n",
    "import matplotlib.pyplot as plt\n",
    "import pandas as pd\n",
    "\n",
    "otn_animals= pd.read_csv('otnunit_aat_animals_8dc3_4d15_c278.csv')\n",
    "otn_animals.isnull().sum()\n"
   ]
  },
  {
   "cell_type": "code",
   "execution_count": 78,
   "metadata": {},
   "outputs": [
    {
     "data": {
      "text/plain": [
       "animal_project_reference      14\n",
       "datacenter_reference           2\n",
       "animal_reference_id         3809\n",
       "animal_guid                 3809\n",
       "vernacularname                17\n",
       "scientificname                16\n",
       "taxonrank                      0\n",
       "aphiaid                       16\n",
       "tsn                           16\n",
       "animal_origin                  3\n",
       "stock                         19\n",
       "length                       262\n",
       "length_type                    3\n",
       "weight                       812\n",
       "life_stage                     4\n",
       "age                            2\n",
       "sex                            3\n",
       "dtype: int64"
      ]
     },
     "execution_count": 78,
     "metadata": {},
     "output_type": "execute_result"
    }
   ],
   "source": [
    "\n",
    "otn_animals.nunique()"
   ]
  },
  {
   "cell_type": "code",
   "execution_count": 79,
   "metadata": {},
   "outputs": [],
   "source": [
    "otn_animals=otn_animals.drop([\"taxonrank\"],axis=1)\n",
    "otn_animals= pd.DataFrame(otn_animals)\n",
    "otn_animals.dropna(how=\"all\",inplace=True)\n",
    "\n",
    "otn_animals['age'].fillna((otn_animals['age'].mean()), inplace=True)\n"
   ]
  },
  {
   "cell_type": "code",
   "execution_count": 80,
   "metadata": {},
   "outputs": [],
   "source": [
    "#Table 1\n",
    "#vernacular name + aphiaid is Pk\n",
    "otn_animal_nameInfo= otn_animals[['aphiaid','vernacularname','scientificname',\n",
    "                                                          'tsn']]\n",
    "otn_animal_nameInfo=otn_animal_nameInfo.drop_duplicates(subset=None, keep='first')\n",
    "otn_animal_nameInfo.shape\n",
    "otn_animal_nameInfo.to_csv(\"cleandata/otn_animal_nameInfo.csv\")"
   ]
  },
  {
   "cell_type": "code",
   "execution_count": 81,
   "metadata": {},
   "outputs": [
    {
     "name": "stdout",
     "output_type": "stream",
     "text": [
      "               animal_guid animal_project_reference datacenter_reference  \\\n",
      "1     OTN-GlobalFROFRO-T14                      FRO           OTN-Global   \n",
      "2      OTN-GlobalFROFRO-T2                      FRO           OTN-Global   \n",
      "3     OTN-GlobalFROFRO-T25                      FRO           OTN-Global   \n",
      "4     OTN-GlobalFROFRO-T26                      FRO           OTN-Global   \n",
      "5     OTN-GlobalFROFRO-T27                      FRO           OTN-Global   \n",
      "...                    ...                      ...                  ...   \n",
      "3805     nepNOAKNOAK-13037                     NOAK                  nep   \n",
      "3806     nepNOAKNOAK-13038                     NOAK                  nep   \n",
      "3807     nepNOAKNOAK-13039                     NOAK                  nep   \n",
      "3808     nepNOAKNOAK-13040                     NOAK                  nep   \n",
      "3809     nepNOAKNOAK-13041                     NOAK                  nep   \n",
      "\n",
      "     animal_reference_id   vernacularname animal_origin       stock  length  \\\n",
      "1                FRO-T14      Arctic char             W         UNK   0.561   \n",
      "2                 FRO-T2      Arctic char             W         UNK   0.576   \n",
      "3                FRO-T25      Arctic char             W         UNK   0.570   \n",
      "4                FRO-T26      Arctic char             W         UNK   0.600   \n",
      "5                FRO-T27      Arctic char             W         UNK   0.550   \n",
      "...                  ...              ...           ...         ...     ...   \n",
      "3805          NOAK-13037  steelhead trout             W  Siletz, Or   0.164   \n",
      "3806          NOAK-13038  steelhead trout             W  Siletz, Or   0.160   \n",
      "3807          NOAK-13039  steelhead trout             W  Siletz, Or   0.156   \n",
      "3808          NOAK-13040  steelhead trout             W  Siletz, Or   0.165   \n",
      "3809          NOAK-13041  steelhead trout             W  Siletz, Or   0.173   \n",
      "\n",
      "      length length_type   weight life_stage       age  sex  \n",
      "1      0.561        FORK  2.35000        NaN  5.333333    U  \n",
      "2      0.576        FORK  2.53000        NaN  5.333333    U  \n",
      "3      0.570        FORK  2.41000        NaN  5.333333    U  \n",
      "4      0.600        FORK  2.80000        NaN  5.333333    U  \n",
      "5      0.550        FORK  2.17000        NaN  5.333333    U  \n",
      "...      ...         ...      ...        ...       ...  ...  \n",
      "3805   0.164        FORK  0.04023        NaN  5.333333  NaN  \n",
      "3806   0.160        FORK  0.03520        NaN  5.333333  NaN  \n",
      "3807   0.156        FORK  0.03407        NaN  5.333333  NaN  \n",
      "3808   0.165        FORK  0.04440        NaN  5.333333  NaN  \n",
      "3809   0.173        FORK  0.05050        NaN  5.333333  NaN  \n",
      "\n",
      "[3809 rows x 14 columns]\n"
     ]
    }
   ],
   "source": [
    "#animal_guid  is pk\n",
    "#vernacular_name is fk\n",
    "otn_animals= pd.DataFrame(otn_animals, columns = ['animal_guid','animal_project_reference',\n",
    "                                                  'datacenter_reference','animal_reference_id',\n",
    "                                                 'vernacularname','animal_origin','stock',\n",
    "                                                 'length','length','length_type','weight','life_stage',\n",
    "                                                 'age','sex'])\n",
    "otn_animals.shape\n",
    "\n",
    "print(otn_animals)"
   ]
  },
  {
   "cell_type": "code",
   "execution_count": 82,
   "metadata": {},
   "outputs": [],
   "source": [
    "otn_animals.to_csv(\"cleandata/otn_animals.csv\")"
   ]
  },
  {
   "cell_type": "code",
   "execution_count": 83,
   "metadata": {},
   "outputs": [
    {
     "data": {
      "text/plain": [
       "datacenter_reference                 1\n",
       "datacenter_name                      1\n",
       "datacenter_abstract                  1\n",
       "datacenter_citation                  1\n",
       "datacenter_pi                        1\n",
       "datacenter_pi_organization           1\n",
       "datacenter_pi_contact                1\n",
       "datacenter_infourl                   1\n",
       "datacenter_keywords                  1\n",
       "datacenter_keywords_vocabulary       1\n",
       "datacenter_doi                       1\n",
       "datacenter_license                   1\n",
       "datacenter_distribution_statement    5\n",
       "datacenter_date_modified             5\n",
       "datacenter_geospatial_lon_min        2\n",
       "datacenter_geospatial_lon_max        2\n",
       "datacenter_geospatial_lat_min        2\n",
       "datacenter_geospatial_lat_max        2\n",
       "time_coverage_start                  4\n",
       "time_coverage_end                    4\n",
       "dtype: int64"
      ]
     },
     "execution_count": 83,
     "metadata": {},
     "output_type": "execute_result"
    }
   ],
   "source": [
    "otn_datacenter= pd.read_csv('otnunit_aat_datacenter_attributes_8a94_cefd_f8a3.csv')\n",
    "otn_datacenter.isnull().sum()"
   ]
  },
  {
   "cell_type": "code",
   "execution_count": 84,
   "metadata": {},
   "outputs": [
    {
     "data": {
      "text/plain": [
       "(4, 16)"
      ]
     },
     "execution_count": 84,
     "metadata": {},
     "output_type": "execute_result"
    }
   ],
   "source": [
    "otn_datacenter=otn_datacenter.drop([\"time_coverage_start\",\"time_coverage_end\",\n",
    "                                    \"datacenter_date_modified\",\"datacenter_distribution_statement\"] , axis=1)\n",
    "otn_datacenter = pd.DataFrame(otn_datacenter)\n",
    "otn_datacenter.dropna(how=\"all\",axis=0,inplace=True)\n",
    "otn_datacenter.shape"
   ]
  },
  {
   "cell_type": "code",
   "execution_count": 85,
   "metadata": {},
   "outputs": [
    {
     "data": {
      "text/plain": [
       "(1, 7)"
      ]
     },
     "execution_count": 85,
     "metadata": {},
     "output_type": "execute_result"
    }
   ],
   "source": [
    "#datacenter_pi is pk\n",
    "    #table 1\n",
    "otn_datacenter_info= pd.DataFrame(otn_datacenter, columns = ['datacenter_pi','datacenter_pi_organization',\n",
    "                                                            'datacenter_pi_contact','datacenter_infourl',\n",
    "                                                            'datacenter_keywords',\n",
    "                                                            'datacenter_keywords_vocabulary','datacenter_doi'])\n",
    "otn_datacenter_info = otn_datacenter_info.drop_duplicates(subset=None, keep='first')\n",
    "otn_datacenter_info.shape\n"
   ]
  },
  {
   "cell_type": "code",
   "execution_count": 86,
   "metadata": {},
   "outputs": [],
   "source": [
    "otn_datacenter_info.to_csv(\"cleandata/otn_datacenter_info.csv\")"
   ]
  },
  {
   "cell_type": "code",
   "execution_count": 87,
   "metadata": {},
   "outputs": [
    {
     "name": "stdout",
     "output_type": "stream",
     "text": [
      "  datacenter_reference                                datacenter_name  \\\n",
      "1              OTN-NEP  Ocean Tracking Network Northeast Pacific Node   \n",
      "2           OTN-Global             Ocean Tracking Network Data Centre   \n",
      "3                  SAF       Ocean Tracking Network South Africa Node   \n",
      "4                  nep  Ocean Tracking Network Northeast Pacific Node   \n",
      "\n",
      "                                 datacenter_abstract  \\\n",
      "1  OTN is a research and technology development i...   \n",
      "2  OTN is a research and technology development i...   \n",
      "3  OTN is a research and technology development i...   \n",
      "4  OTN is a research and technology development i...   \n",
      "\n",
      "                                 datacenter_citation  \\\n",
      "1  Ocean Tracking Network Data Centre - Northeast...   \n",
      "2                Ocean Tracking Network Data Centre.   \n",
      "3  Ocean Tracking Network Data Centre - South Afr...   \n",
      "4  Ocean Tracking Network Data Centre - Northeast...   \n",
      "\n",
      "   datacenter_geospatial_lon_min  datacenter_geospatial_lon_max  \\\n",
      "1                            NaN                            NaN   \n",
      "2                       -108.511                         148.83   \n",
      "3                         16.000                          36.00   \n",
      "4                       -176.900                         -55.60   \n",
      "\n",
      "   datacenter_geospatial_lat_min  datacenter_geospatial_lat_max  \\\n",
      "1                            NaN                            NaN   \n",
      "2                     -50.980911                       74.75011   \n",
      "3                     -34.630380                      -24.50000   \n",
      "4                       4.993200                       60.76630   \n",
      "\n",
      "                 datacenter_pi  \n",
      "1  Director of Data Management  \n",
      "2  Director of Data Management  \n",
      "3  Director of Data Management  \n",
      "4  Director of Data Management  \n"
     ]
    }
   ],
   "source": [
    "#datacenter_pi is fk and datacenetr_reference is pk\n",
    "otn_datacenter= pd.DataFrame(otn_datacenter, columns = ['datacenter_reference','datacenter_name',\n",
    "                                                            'datacenter_abstract','datacenter_citation',\n",
    "                                                            'datacenter_geospatial_lon_min',\n",
    "                                                            'datacenter_geospatial_lon_max',\n",
    "                                                        'datacenter_geospatial_lat_min',\n",
    "                                                           'datacenter_geospatial_lat_max','datacenter_pi'])\n",
    "#otn_datacenterInfo.insert(0, 'Info_ID', range(0,0 + len(otn_datacenterInfo)))\n",
    "otn_datacenter.shape\n",
    "print(otn_datacenter)"
   ]
  },
  {
   "cell_type": "code",
   "execution_count": 88,
   "metadata": {},
   "outputs": [],
   "source": [
    "otn_datacenter.to_csv(\"cleandata/otn_datacenter.csv\")"
   ]
  },
  {
   "cell_type": "code",
   "execution_count": 89,
   "metadata": {},
   "outputs": [
    {
     "name": "stderr",
     "output_type": "stream",
     "text": [
      "/Library/Frameworks/Python.framework/Versions/3.8/lib/python3.8/site-packages/IPython/core/interactiveshell.py:3145: DtypeWarning: Columns (5,6,13,15,18,19) have mixed types.Specify dtype option on import or set low_memory=False.\n",
      "  has_raised = await self.run_ast_nodes(code_ast.body, cell_name,\n"
     ]
    },
    {
     "name": "stdout",
     "output_type": "stream",
     "text": [
      "(218979, 27)\n"
     ]
    },
    {
     "data": {
      "text/plain": [
       "detection_project_reference        29\n",
       "datacenter_reference                2\n",
       "detection_id                   218978\n",
       "detection_guid                 218978\n",
       "time                           215786\n",
       "latitude                          709\n",
       "longitude                         698\n",
       "tracker_reference                  10\n",
       "detection_reference_id            617\n",
       "detection_reference_type            1\n",
       "transmitter_codespace               8\n",
       "transmitter_id                    659\n",
       "detection_transmittername         659\n",
       "detection_serial_number           775\n",
       "sensor_data                        95\n",
       "sensor_data_units                   3\n",
       "receiver_log_id                     0\n",
       "deployment_id                     718\n",
       "detection_quality                   1\n",
       "depth                               1\n",
       "position_data_source                1\n",
       "uncertainty_in_latitude             0\n",
       "uncertainty_in_longitude            0\n",
       "depth_data_source                   0\n",
       "uncertainty_in_depth                0\n",
       "other_position_data                 0\n",
       "dataset_quality                     0\n",
       "dtype: int64"
      ]
     },
     "execution_count": 89,
     "metadata": {},
     "output_type": "execute_result"
    }
   ],
   "source": [
    "otn_detections= pd.read_csv('otnunit_aat_detections_9062_5923_1394.csv')\n",
    "print(otn_detections.shape)\n",
    "otn_detections.notnull().sum()\n",
    "otn_detections.nunique()"
   ]
  },
  {
   "cell_type": "code",
   "execution_count": 90,
   "metadata": {},
   "outputs": [
    {
     "name": "stdout",
     "output_type": "stream",
     "text": [
      "       detection_project_reference datacenter_reference  \\\n",
      "1                              WRS           OTN-Global   \n",
      "2                              WRS           OTN-Global   \n",
      "3                              WRS           OTN-Global   \n",
      "4                              WRS           OTN-Global   \n",
      "5                              WRS           OTN-Global   \n",
      "...                            ...                  ...   \n",
      "218974                         WRS           OTN-Global   \n",
      "218975                         WRS           OTN-Global   \n",
      "218976                         WRS           OTN-Global   \n",
      "218977                         WRS           OTN-Global   \n",
      "218978                         WRS           OTN-Global   \n",
      "\n",
      "                 detection_id                      detection_guid  \\\n",
      "1       A69-1303-10563-829669  OTN-GlobalWRSA69-1303-10563-829669   \n",
      "2       A69-1303-10563-829292  OTN-GlobalWRSA69-1303-10563-829292   \n",
      "3       A69-1303-10563-829290  OTN-GlobalWRSA69-1303-10563-829290   \n",
      "4       A69-1303-10563-830260  OTN-GlobalWRSA69-1303-10563-830260   \n",
      "5       A69-1303-10563-828941  OTN-GlobalWRSA69-1303-10563-828941   \n",
      "...                       ...                                 ...   \n",
      "218974  A69-1303-10563-829130  OTN-GlobalWRSA69-1303-10563-829130   \n",
      "218975  A69-1303-10563-825983  OTN-GlobalWRSA69-1303-10563-825983   \n",
      "218976  A69-1303-10563-829686  OTN-GlobalWRSA69-1303-10563-829686   \n",
      "218977  A69-1303-10563-829781  OTN-GlobalWRSA69-1303-10563-829781   \n",
      "218978  A69-1303-10563-829288  OTN-GlobalWRSA69-1303-10563-829288   \n",
      "\n",
      "                        time  latitude  longitude tracker_reference  \\\n",
      "1       2008-05-20T10:14:19Z  44.91786  -62.53628               WRS   \n",
      "2       2008-05-20T07:39:38Z  44.91786  -62.53628               WRS   \n",
      "3       2008-05-20T07:38:45Z  44.91786  -62.53628               WRS   \n",
      "4       2008-05-20T14:38:47Z  44.91786  -62.53628               WRS   \n",
      "5       2008-05-20T04:42:29Z  44.91786  -62.53628               WRS   \n",
      "...                      ...       ...        ...               ...   \n",
      "218974  2008-05-20T06:23:56Z   44.9179   -62.5363               WRS   \n",
      "218975  2008-05-19T05:49:03Z   44.9179   -62.5363               WRS   \n",
      "218976  2008-05-20T10:20:00Z   44.9179   -62.5363               WRS   \n",
      "218977  2008-05-20T11:06:05Z   44.9179   -62.5363               WRS   \n",
      "218978  2008-05-20T07:38:01Z   44.9179   -62.5363               WRS   \n",
      "\n",
      "       detection_reference_id detection_reference_type transmitter_codespace  \\\n",
      "1                   WRS-10563                   ANIMAL              A69-1303   \n",
      "2                   WRS-10563                   ANIMAL              A69-1303   \n",
      "3                   WRS-10563                   ANIMAL              A69-1303   \n",
      "4                   WRS-10563                   ANIMAL              A69-1303   \n",
      "5                   WRS-10563                   ANIMAL              A69-1303   \n",
      "...                       ...                      ...                   ...   \n",
      "218974              WRS-10563                   ANIMAL              A69-1303   \n",
      "218975              WRS-10563                   ANIMAL              A69-1303   \n",
      "218976              WRS-10563                   ANIMAL              A69-1303   \n",
      "218977              WRS-10563                   ANIMAL              A69-1303   \n",
      "218978              WRS-10563                   ANIMAL              A69-1303   \n",
      "\n",
      "        transmitter_id detection_transmittername detection_serial_number  \\\n",
      "1              10563.0            A69-1303-10563                    1136   \n",
      "2              10563.0            A69-1303-10563                    1136   \n",
      "3              10563.0            A69-1303-10563                    1136   \n",
      "4              10563.0            A69-1303-10563                    1136   \n",
      "5              10563.0            A69-1303-10563                    1136   \n",
      "...                ...                       ...                     ...   \n",
      "218974         10563.0            A69-1303-10563                    1136   \n",
      "218975         10563.0            A69-1303-10563                    1136   \n",
      "218976         10563.0            A69-1303-10563                    1136   \n",
      "218977         10563.0            A69-1303-10563                    1136   \n",
      "218978         10563.0            A69-1303-10563                    1136   \n",
      "\n",
      "        sensor_data sensor_data_units        deployment_id detection_quality  \\\n",
      "1               NaN               NaN  WRSH-SW2-VR2-1136-1               NaN   \n",
      "2               NaN               NaN  WRSH-SW2-VR2-1136-1               NaN   \n",
      "3               NaN               NaN  WRSH-SW2-VR2-1136-1               NaN   \n",
      "4               NaN               NaN  WRSH-SW2-VR2-1136-1               NaN   \n",
      "5               NaN               NaN  WRSH-SW2-VR2-1136-1               NaN   \n",
      "...             ...               ...                  ...               ...   \n",
      "218974          NaN               NaN  WRSH-SW2-VR2-1136-1               NaN   \n",
      "218975          NaN               NaN  WRSH-SW2-VR2-1136-1               NaN   \n",
      "218976          NaN               NaN  WRSH-SW2-VR2-1136-1               NaN   \n",
      "218977          NaN               NaN  WRSH-SW2-VR2-1136-1               NaN   \n",
      "218978          NaN               NaN  WRSH-SW2-VR2-1136-1               NaN   \n",
      "\n",
      "       position_data_source  \n",
      "1         Receiver Metadata  \n",
      "2         Receiver Metadata  \n",
      "3         Receiver Metadata  \n",
      "4         Receiver Metadata  \n",
      "5         Receiver Metadata  \n",
      "...                     ...  \n",
      "218974    Receiver Metadata  \n",
      "218975    Receiver Metadata  \n",
      "218976    Receiver Metadata  \n",
      "218977    Receiver Metadata  \n",
      "218978    Receiver Metadata  \n",
      "\n",
      "[218978 rows x 19 columns]\n"
     ]
    }
   ],
   "source": [
    "otn_detections=otn_detections.drop([\"receiver_log_id\",\"uncertainty_in_latitude\",\n",
    "                                    \"uncertainty_in_longitude\",\"depth\",\"depth_data_source\",\n",
    "                                    \"uncertainty_in_depth\",\"other_position_data\"\n",
    "                                  ,\"dataset_quality\"] , axis=1)\n",
    "otn_detections = pd.DataFrame(otn_detections)\n",
    "otn_detections.dropna(how=\"all\",thresh=4,axis=0,inplace= True)\n",
    "print(otn_detections)"
   ]
  },
  {
   "cell_type": "code",
   "execution_count": 91,
   "metadata": {},
   "outputs": [
    {
     "name": "stdout",
     "output_type": "stream",
     "text": [
      "        transmitter_id detection_transmittername transmitter_codespace\n",
      "1              10563.0            A69-1303-10563              A69-1303\n",
      "571            10564.0            A69-1303-10564              A69-1303\n",
      "3357           56393.0            A69-1303-56393              A69-1303\n",
      "4451           10565.0            A69-1303-10565              A69-1303\n",
      "6806           10566.0            A69-1303-10566              A69-1303\n",
      "...                ...                       ...                   ...\n",
      "197531         14158.0            A69-1303-14158              A69-1303\n",
      "204139         10553.0            A69-1303-10553              A69-1303\n",
      "211010         10556.0            A69-1303-10556              A69-1303\n",
      "213174         10560.0            A69-1303-10560              A69-1303\n",
      "215316         10561.0            A69-1303-10561              A69-1303\n",
      "\n",
      "[659 rows x 3 columns]\n"
     ]
    }
   ],
   "source": [
    "#transmitter_id pk\n",
    "otn_transmitter= pd.DataFrame(otn_detections, columns = ['transmitter_id','detection_transmittername',\n",
    "                                                         'transmitter_codespace'])\n",
    "#otn_datacenterInfo.insert(0, 'Info_ID', range(0,0 + len(otn_datacenterInfo)))\n",
    "otn_transmitter.drop_duplicates(subset=None, keep='first', inplace=True)\n",
    "otn_transmitter.shape\n",
    "print(otn_transmitter)"
   ]
  },
  {
   "cell_type": "code",
   "execution_count": 92,
   "metadata": {},
   "outputs": [],
   "source": [
    "otn_transmitter.to_csv(\"cleandata/otn_transmitter.csv\")"
   ]
  },
  {
   "cell_type": "code",
   "execution_count": 93,
   "metadata": {},
   "outputs": [
    {
     "data": {
      "text/plain": [
       "(218978, 18)"
      ]
     },
     "execution_count": 93,
     "metadata": {},
     "output_type": "execute_result"
    }
   ],
   "source": [
    "#transmitter_id fk , detection_guid is pk\n",
    "otn_detections= pd.DataFrame(otn_detections, columns = ['detection_guid','transmitter_id','detection_project_reference','datacenter_reference',\n",
    "                                                        'detection_id','time','latitude','longitude',\n",
    "                                                        'tracker_reference','detection_reference_id',\n",
    "                                                        'detection_reference_type',\n",
    "                                                        'detection_serial_number','sensor_data','sensor_data_units',\n",
    "                                                        'deployment_id','detection_quality','detection_quality',\n",
    "                                                        'position_data_source'\n",
    "                                                       ])\n",
    "#otn_datacenterInfo.insert(0, 'Info_ID', range(0,0 + len(otn_datacenterInfo)))\n",
    "otn_detections.drop_duplicates(subset=None, keep='first', inplace=True)\n",
    "otn_detections.shape\n"
   ]
  },
  {
   "cell_type": "code",
   "execution_count": 94,
   "metadata": {},
   "outputs": [],
   "source": [
    "otn_detections.to_csv(\"cleandata/otn_detections.csv\")"
   ]
  },
  {
   "cell_type": "code",
   "execution_count": 95,
   "metadata": {},
   "outputs": [
    {
     "data": {
      "text/plain": [
       "platform_project_reference       1\n",
       "datacenter_reference             1\n",
       "platform_reference_id            1\n",
       "platform_guid                    1\n",
       "platform_type                    1\n",
       "platform_depth                2262\n",
       "platform_name                    1\n",
       "latitude                        10\n",
       "longitude                       10\n",
       "dtype: int64"
      ]
     },
     "execution_count": 95,
     "metadata": {},
     "output_type": "execute_result"
    }
   ],
   "source": [
    "otn_platform= pd.read_csv('otnunit_aat_manmade_platform_0735_7c9f_329c.csv')\n",
    "otn_platform.isnull().sum()\n",
    "#otn_platform.nunique()\n",
    "#print(otn_manmade.shape)\n",
    "#otn_manmade.shape"
   ]
  },
  {
   "cell_type": "code",
   "execution_count": 96,
   "metadata": {},
   "outputs": [
    {
     "data": {
      "text/plain": [
       "platform_project_reference       0\n",
       "datacenter_reference             0\n",
       "platform_reference_id            0\n",
       "platform_guid                    0\n",
       "platform_type                    0\n",
       "platform_depth                2261\n",
       "platform_name                    0\n",
       "latitude                        10\n",
       "longitude                       10\n",
       "dtype: int64"
      ]
     },
     "execution_count": 96,
     "metadata": {},
     "output_type": "execute_result"
    }
   ],
   "source": [
    "#platform_guid is pk\n",
    "otn_platform = pd.DataFrame(otn_platform)\n",
    "otn_platform.dropna(how=\"all\",thresh=3,inplace=True)\n",
    "otn_platform.nunique()\n",
    "otn_platform.shape\n",
    "otn_platform.isnull().sum()"
   ]
  },
  {
   "cell_type": "code",
   "execution_count": 97,
   "metadata": {},
   "outputs": [],
   "source": [
    "otn_platform.nunique()\n",
    "otn_platform=otn_platform.drop([\"platform_depth\"] , axis=1)\n",
    "otn_platform = otn_platform.apply(lambda x: x.astype(str).str.lower()).drop_duplicates(subset=['platform_reference_id'], keep='first')"
   ]
  },
  {
   "cell_type": "code",
   "execution_count": 98,
   "metadata": {},
   "outputs": [
    {
     "data": {
      "text/plain": [
       "(8828, 8)"
      ]
     },
     "execution_count": 98,
     "metadata": {},
     "output_type": "execute_result"
    }
   ],
   "source": [
    "otn_platform.shape"
   ]
  },
  {
   "cell_type": "code",
   "execution_count": 99,
   "metadata": {},
   "outputs": [],
   "source": [
    "otn_platform.to_csv(\"cleandata/otn_platform.csv\")"
   ]
  },
  {
   "cell_type": "code",
   "execution_count": 100,
   "metadata": {},
   "outputs": [
    {
     "data": {
      "text/plain": [
       "project_reference                   1\n",
       "datacenter_reference                1\n",
       "project_name                        1\n",
       "project_abstract                    4\n",
       "project_citation                   13\n",
       "project_pi                         17\n",
       "project_pi_organization             1\n",
       "project_pi_contact                 17\n",
       "project_infourl                     4\n",
       "project_keywords                    1\n",
       "project_keywords_vocabulary         1\n",
       "project_references                301\n",
       "project_doi                       301\n",
       "project_license                     1\n",
       "project_distribution_statement    301\n",
       "project_date_modified             301\n",
       "project_datum                       1\n",
       "project_geospatial_lon_min          0\n",
       "project_geospatial_lon_max          0\n",
       "project_geospatial_lat_min          0\n",
       "project_geospatial_lat_max          0\n",
       "project_linestring                301\n",
       "geospatial_vertical_min           127\n",
       "geospatial_vertical_max           145\n",
       "geospatial_vertical_positive      301\n",
       "time_coverage_start               301\n",
       "time_coverage_end                 301\n",
       "dtype: int64"
      ]
     },
     "execution_count": 100,
     "metadata": {},
     "output_type": "execute_result"
    }
   ],
   "source": [
    "otn_project= pd.read_csv('otnunit_aat_project_attributes_f29c_fb21_23a3.csv')\n",
    "otn_project.isnull().sum()\n",
    "\n",
    "#otn_project.shape"
   ]
  },
  {
   "cell_type": "code",
   "execution_count": 101,
   "metadata": {},
   "outputs": [
    {
     "data": {
      "text/plain": [
       "(301, 19)"
      ]
     },
     "execution_count": 101,
     "metadata": {},
     "output_type": "execute_result"
    }
   ],
   "source": [
    "otn_project=otn_project.drop([\"project_linestring\",\"project_references\",\n",
    "                                    \"project_doi\",\"project_distribution_statement\",\"project_date_modified\",\n",
    "                              \"geospatial_vertical_positive\",\"time_coverage_start\"\n",
    "                                   ,\"time_coverage_end\"] , axis=1)\n",
    "otn_project.shape"
   ]
  },
  {
   "cell_type": "code",
   "execution_count": 102,
   "metadata": {},
   "outputs": [
    {
     "data": {
      "text/plain": [
       "(300, 19)"
      ]
     },
     "execution_count": 102,
     "metadata": {},
     "output_type": "execute_result"
    }
   ],
   "source": [
    "\n",
    "otn_project.dropna(how=\"all\",thresh=5,axis=0,inplace=True)\n",
    "otn_project.shape\n",
    "#otn_project.isnull().sum()\n",
    "#otn_project.nunique()"
   ]
  },
  {
   "cell_type": "code",
   "execution_count": 103,
   "metadata": {},
   "outputs": [
    {
     "data": {
      "text/plain": [
       "project_pi                     0\n",
       "project_pi_organization        0\n",
       "project_pi_contact             0\n",
       "project_infourl                2\n",
       "project_keywords               0\n",
       "project_keywords_vocabulary    0\n",
       "project_license                0\n",
       "dtype: int64"
      ]
     },
     "execution_count": 103,
     "metadata": {},
     "output_type": "execute_result"
    }
   ],
   "source": [
    "#project pi pk\n",
    "otn_project_pi_info= pd.DataFrame(otn_project, columns = ['project_pi','project_pi_organization',\n",
    "                                                            'project_pi_contact','project_infourl',\n",
    "                                                            'project_keywords',\n",
    "                                                            'project_keywords_vocabulary',\n",
    "                                                           'project_license'])\n",
    "\n",
    "otn_project_pi_info=otn_project_pi_info.drop_duplicates(subset='project_pi', keep='first')\n",
    "otn_project_pi_info=otn_project_pi_info.dropna(axis=0,subset=['project_pi'])\n",
    "otn_project_pi_info.isnull().sum()\n",
    "#print(otn_project)"
   ]
  },
  {
   "cell_type": "code",
   "execution_count": 104,
   "metadata": {},
   "outputs": [],
   "source": [
    "otn_project_pi_info.to_csv(\"cleandata/otn_project_pi_info.csv\")"
   ]
  },
  {
   "cell_type": "code",
   "execution_count": 105,
   "metadata": {},
   "outputs": [
    {
     "data": {
      "text/plain": [
       "(300, 13)"
      ]
     },
     "execution_count": 105,
     "metadata": {},
     "output_type": "execute_result"
    }
   ],
   "source": [
    "#project_pi is fk\n",
    "#project_reference is pk\n",
    "otn_project= pd.DataFrame(otn_project, columns = ['project_pi','project_reference',\n",
    "                                                            'datacenter_reference','project_name',\n",
    "                                                            'project_abstract',\n",
    "                                                            'project_citation','project_datum',\n",
    "                                                           'project_geospatial_lon_min','project_geospatial_lon_max'\n",
    "                                                 ,'project_geospatial_lat_min','project_geospatial_lat_max',\n",
    "                                                 'geospatial_vertical_min','geospatial_vertical_max'])\n",
    "otn_project.shape"
   ]
  },
  {
   "cell_type": "code",
   "execution_count": 106,
   "metadata": {},
   "outputs": [],
   "source": [
    "otn_project.to_csv(\"cleandata/otn_project.csv\")"
   ]
  },
  {
   "cell_type": "code",
   "execution_count": 107,
   "metadata": {},
   "outputs": [
    {
     "data": {
      "text/plain": [
       "(300, 13)"
      ]
     },
     "execution_count": 107,
     "metadata": {},
     "output_type": "execute_result"
    }
   ],
   "source": [
    "otn_project.shape"
   ]
  },
  {
   "cell_type": "code",
   "execution_count": 108,
   "metadata": {},
   "outputs": [
    {
     "data": {
      "text/plain": [
       "deployment_project_reference        1\n",
       "datacenter_reference                1\n",
       "deployment_id                       1\n",
       "deployment_guid                     1\n",
       "receiver_manufacturer             801\n",
       "receiver_model                      1\n",
       "frequencies_monitored           18787\n",
       "receiver_coding_scheme          18787\n",
       "receiver_serial_number              3\n",
       "latitude                            1\n",
       "longitude                           1\n",
       "time                                0\n",
       "recovery_datetime_utc            3409\n",
       "array_name                          1\n",
       "receiver_reference_type             1\n",
       "receiver_reference_id               7\n",
       "bottom_depth                     4286\n",
       "depth                            4956\n",
       "deployment_comments             15526\n",
       "deployed_by                     18787\n",
       "expected_receiver_life          18787\n",
       "dtype: int64"
      ]
     },
     "execution_count": 108,
     "metadata": {},
     "output_type": "execute_result"
    }
   ],
   "source": [
    "otn_receivers= pd.read_csv('otnunit_aat_receivers_c595_05f4_68b2.csv')\n",
    "otn_receivers.isnull().sum()\n",
    "#otn_receivers.nunique()\n"
   ]
  },
  {
   "cell_type": "code",
   "execution_count": 109,
   "metadata": {},
   "outputs": [
    {
     "data": {
      "text/plain": [
       "(18787, 21)"
      ]
     },
     "execution_count": 109,
     "metadata": {},
     "output_type": "execute_result"
    }
   ],
   "source": [
    "otn_receivers.shape"
   ]
  },
  {
   "cell_type": "code",
   "execution_count": 110,
   "metadata": {},
   "outputs": [
    {
     "data": {
      "text/plain": [
       "deployment_project_reference      173\n",
       "datacenter_reference                3\n",
       "deployment_id                   18785\n",
       "deployment_guid                 18786\n",
       "receiver_manufacturer              21\n",
       "receiver_model                     81\n",
       "receiver_serial_number           7036\n",
       "latitude                        13331\n",
       "longitude                       13644\n",
       "time                            15483\n",
       "recovery_datetime_utc           11930\n",
       "array_name                        173\n",
       "receiver_reference_type             1\n",
       "receiver_reference_id            8519\n",
       "bottom_depth                     2001\n",
       "depth                            1771\n",
       "deployment_comments              1570\n",
       "dtype: int64"
      ]
     },
     "execution_count": 110,
     "metadata": {},
     "output_type": "execute_result"
    }
   ],
   "source": [
    "otn_receivers=otn_receivers.drop([\"frequencies_monitored\",\"receiver_coding_scheme\",\n",
    "                                    \"deployed_by\",\"expected_receiver_life\"] , axis=1)\n",
    "otn_receivers= pd.DataFrame(otn_receivers)\n",
    "otn_receivers.dropna(how=\"all\",thresh=7,inplace=True)\n",
    "otn_receivers.nunique()"
   ]
  },
  {
   "cell_type": "code",
   "execution_count": 111,
   "metadata": {},
   "outputs": [],
   "source": [
    "#serial no is pk\n",
    "otn_receivers_model= pd.DataFrame(otn_receivers, columns = ['receiver_serial_number','receiver_model',\n",
    "                                                            'receiver_manufacturer'])"
   ]
  },
  {
   "cell_type": "code",
   "execution_count": 112,
   "metadata": {},
   "outputs": [
    {
     "data": {
      "text/plain": [
       "(7036, 3)"
      ]
     },
     "execution_count": 112,
     "metadata": {},
     "output_type": "execute_result"
    }
   ],
   "source": [
    "\n",
    "otn_receivers_model.drop_duplicates(subset=['receiver_serial_number'], keep='first', inplace=True)\n",
    "otn_receivers_model=otn_receivers_model.dropna(axis=0,subset=['receiver_serial_number'])\n",
    "otn_receivers_model.shape"
   ]
  },
  {
   "cell_type": "code",
   "execution_count": 113,
   "metadata": {},
   "outputs": [],
   "source": [
    "otn_receivers_model.to_csv(\"cleandata/otn_receivers_model.csv\")"
   ]
  },
  {
   "cell_type": "code",
   "execution_count": 114,
   "metadata": {},
   "outputs": [
    {
     "data": {
      "text/plain": [
       "(18786, 15)"
      ]
     },
     "execution_count": 114,
     "metadata": {},
     "output_type": "execute_result"
    }
   ],
   "source": [
    "#deployment_guid is pk\n",
    "#serial no is fk\n",
    "otn_receivers= pd.DataFrame(otn_receivers, columns = ['deployment_id','deployment_project_reference','datacenter_reference',\n",
    "                                                            'deployment_guid',\n",
    "                                                            'latitude',\n",
    "                                                            'longitude',\n",
    "                                                           'time','recovery_datetime_utc','array_name',\n",
    "                                                      'receiver_reference_type','receiver_reference_id',\n",
    "                                                     'bottom_depth','depth','deployment_comments',\n",
    "                                                      'receiver_serial_number'])\n",
    "otn_receivers.shape"
   ]
  },
  {
   "cell_type": "code",
   "execution_count": 115,
   "metadata": {},
   "outputs": [],
   "source": [
    "otn_receivers.to_csv(\"cleandata/otn_receivers.csv\")"
   ]
  },
  {
   "cell_type": "code",
   "execution_count": 116,
   "metadata": {},
   "outputs": [
    {
     "data": {
      "text/plain": [
       "recovery_project_reference        1\n",
       "datacenter_reference              1\n",
       "recovery_id                       1\n",
       "deployment_id                    44\n",
       "recovery_guid                    44\n",
       "recovery_latitude               440\n",
       "recovery_longitude              440\n",
       "recovery_datetime_utc         21826\n",
       "recovery_outcome                  1\n",
       "data_offloaded                    1\n",
       "offload_datetime_utc          22210\n",
       "log_filenames                 19394\n",
       "recovery_comments             30625\n",
       "clock_synchronized            37204\n",
       "recovered_by                  37204\n",
       "dtype: int64"
      ]
     },
     "execution_count": 116,
     "metadata": {},
     "output_type": "execute_result"
    }
   ],
   "source": [
    "#recover id is pk\n",
    "otn_recover= pd.read_csv('otnunit_aat_recover_offload_details_4b23_f002_f89a.csv')\n",
    "otn_recover.isnull().sum()\n",
    "#otn_recover.nunique()"
   ]
  },
  {
   "cell_type": "code",
   "execution_count": 117,
   "metadata": {},
   "outputs": [
    {
     "data": {
      "text/plain": [
       "(37204, 15)"
      ]
     },
     "execution_count": 117,
     "metadata": {},
     "output_type": "execute_result"
    }
   ],
   "source": [
    "otn_recover.shape"
   ]
  },
  {
   "cell_type": "code",
   "execution_count": 118,
   "metadata": {},
   "outputs": [],
   "source": [
    "otn_recover=otn_recover.drop([\"recovered_by\",\"clock_synchronized\"] , axis=1)\n",
    "otn_recover= pd.DataFrame(otn_recover)\n",
    "otn_recover.dropna(how=\"all\",thresh=7,inplace=True,axis=0)"
   ]
  },
  {
   "cell_type": "code",
   "execution_count": 119,
   "metadata": {},
   "outputs": [
    {
     "data": {
      "text/plain": [
       "recovery_project_reference      166\n",
       "datacenter_reference              3\n",
       "recovery_id                   37201\n",
       "deployment_id                 16898\n",
       "recovery_guid                 37160\n",
       "recovery_latitude             12892\n",
       "recovery_longitude            13186\n",
       "recovery_datetime_utc         11930\n",
       "recovery_outcome                 25\n",
       "data_offloaded                    2\n",
       "offload_datetime_utc          12428\n",
       "log_filenames                 13048\n",
       "recovery_comments              2044\n",
       "dtype: int64"
      ]
     },
     "execution_count": 119,
     "metadata": {},
     "output_type": "execute_result"
    }
   ],
   "source": [
    "otn_recover.nunique()"
   ]
  },
  {
   "cell_type": "code",
   "execution_count": 120,
   "metadata": {},
   "outputs": [],
   "source": [
    "otn_recover.to_csv(\"cleandata/otn_recover.csv\")"
   ]
  },
  {
   "cell_type": "code",
   "execution_count": 121,
   "metadata": {},
   "outputs": [
    {
     "data": {
      "text/plain": [
       "release_project_reference      11\n",
       "datacenter_reference            2\n",
       "tag_device_id                3837\n",
       "release_guid                 3837\n",
       "release_reference_id         3686\n",
       "release_reference_type          2\n",
       "latitude                      115\n",
       "longitude                     117\n",
       "time                          435\n",
       "expected_enddate              454\n",
       "manufacturer                    2\n",
       "tag_model                      17\n",
       "tag_serial_number            3728\n",
       "tag_frequency                   0\n",
       "tag_coding_system              14\n",
       "transmitted_id               3827\n",
       "transmittername              3837\n",
       "transmitter_type                0\n",
       "tag_programming_id              0\n",
       "dtype: int64"
      ]
     },
     "execution_count": 121,
     "metadata": {},
     "output_type": "execute_result"
    }
   ],
   "source": [
    "otn_tag= pd.read_csv('otnunit_aat_tag_releases_b793_03e7_a230.csv')\n",
    "otn_tag.isnull().sum()\n",
    "otn_tag.nunique()"
   ]
  },
  {
   "cell_type": "code",
   "execution_count": 122,
   "metadata": {},
   "outputs": [
    {
     "data": {
      "text/plain": [
       "release_project_reference    0\n",
       "datacenter_reference         0\n",
       "tag_device_id                0\n",
       "release_guid                 0\n",
       "release_reference_id         0\n",
       "release_reference_type       0\n",
       "latitude                     0\n",
       "longitude                    0\n",
       "time                         0\n",
       "expected_enddate             0\n",
       "manufacturer                 0\n",
       "tag_model                    0\n",
       "tag_serial_number            0\n",
       "tag_coding_system            0\n",
       "transmitted_id               0\n",
       "dtype: int64"
      ]
     },
     "execution_count": 122,
     "metadata": {},
     "output_type": "execute_result"
    }
   ],
   "source": [
    "otn_tag=otn_tag.drop([\"transmitter_type\",\"tag_programming_id\",\"tag_frequency\",\"transmittername\"] , axis=1)\n",
    "otn_tag= pd.DataFrame(otn_tag)\n",
    "otn_tag.dropna(how=\"all\",thresh=7,inplace=True)\n",
    "otn_tag.isnull().sum()"
   ]
  },
  {
   "cell_type": "code",
   "execution_count": 123,
   "metadata": {},
   "outputs": [],
   "source": [
    "#serial no is pk\n",
    "otn_tag_model= pd.DataFrame(otn_tag, columns = ['tag_serial_number','tag_model','tag_coding_system', \n",
    "                                                            'manufacturer'])"
   ]
  },
  {
   "cell_type": "code",
   "execution_count": 124,
   "metadata": {},
   "outputs": [
    {
     "data": {
      "text/plain": [
       "(3728, 4)"
      ]
     },
     "execution_count": 124,
     "metadata": {},
     "output_type": "execute_result"
    }
   ],
   "source": [
    "\n",
    "otn_tag_model.drop_duplicates(subset=['tag_serial_number'], keep='first', inplace=True)\n",
    "otn_tag_model=otn_tag_model.dropna(axis=0,subset=['tag_serial_number'])\n",
    "otn_tag_model.shape"
   ]
  },
  {
   "cell_type": "code",
   "execution_count": 125,
   "metadata": {},
   "outputs": [],
   "source": [
    "otn_tag_model.to_csv(\"cleandata/otn_tag_model.csv\")"
   ]
  },
  {
   "cell_type": "code",
   "execution_count": 126,
   "metadata": {},
   "outputs": [],
   "source": [
    "#release guid   is pk\n",
    "#serial no is fk\n",
    "#transmitter id is fk\n",
    "otn_tag= pd.DataFrame(otn_tag, columns = ['tag_device_id','release_project_reference','datacenter_reference'\n",
    "                                                            ,'release_guid',\n",
    "                                                            'release_reference_id',\n",
    "                                                            'release_reference_type',\n",
    "                                                           'latitude','longitude','time',\n",
    "                                                      'expected_enddate','tag_serial_number','transmitted_id'])\n"
   ]
  },
  {
   "cell_type": "code",
   "execution_count": 127,
   "metadata": {},
   "outputs": [],
   "source": [
    "otn_tag.to_csv(\"cleandata/otn_tag.csv\")"
   ]
  },
  {
   "cell_type": "code",
   "execution_count": null,
   "metadata": {},
   "outputs": [],
   "source": []
  },
  {
   "cell_type": "code",
   "execution_count": null,
   "metadata": {},
   "outputs": [],
   "source": []
  },
  {
   "cell_type": "code",
   "execution_count": null,
   "metadata": {},
   "outputs": [],
   "source": []
  }
 ],
 "metadata": {
  "kernelspec": {
   "display_name": "Python 3",
   "language": "python",
   "name": "python3"
  },
  "language_info": {
   "codemirror_mode": {
    "name": "ipython",
    "version": 3
   },
   "file_extension": ".py",
   "mimetype": "text/x-python",
   "name": "python",
   "nbconvert_exporter": "python",
   "pygments_lexer": "ipython3",
   "version": "3.8.5"
  }
 },
 "nbformat": 4,
 "nbformat_minor": 4
}
